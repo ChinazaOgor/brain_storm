{
 "cells": [
  {
   "cell_type": "markdown",
   "metadata": {
    "id": "_ikvQGPR7a99"
   },
   "source": [
    "# Assignment 04\n",
    "#### Python Basics IV - Functions, Unity Testing, and Logging\n",
    "\n",
    "This tutorial was written by Terry L. Ruas (University of Göttingen). The references for external contributors for which this material was anyhow adapted/inspired are in the Acknowledgments section (end of the document)."
   ]
  },
  {
   "cell_type": "markdown",
   "metadata": {
    "id": "SchiSV187a9-"
   },
   "source": [
    "This notebook will cover the following tasks:\n",
    "\n",
    "1. Lambda functions\n",
    "2. List comprehensions\n",
    "3. Unity Test\n",
    "4. HTTP Request\n",
    "5. Logging\n",
    "6. Download File"
   ]
  },
  {
   "cell_type": "markdown",
   "metadata": {
    "id": "QOoNCxgu7a-A"
   },
   "source": [
    "## Task 01 – Lambda functions\n",
    "Python supports lambda functions as a handy way to define small, anonymous, i.e., unnamed, functions inline. The basic syntax for lambda functions is:\n",
    "$$\n",
    " \\textbf{lambda}\\text{ parameter1, parameter2, ... : }\\textbf{expression}\n",
    "$$\n",
    "Use a lambda function only to retain the even values in an array of integers. Test your function with an input array of your choosing. Print the input array and the filtered output array to stdout."
   ]
  },
  {
   "cell_type": "code",
   "execution_count": 1,
   "metadata": {
    "id": "5keoJAOw7a-B"
   },
   "outputs": [],
   "source": [
    "x=[1,2,3,4,5,6,7,8,9,10]\n",
    "\n",
    "print(\"Unfiltered List: \", x)\n",
    "print(\"FIltered List: \", list(filter(lambda x: (x % 2 == 0),x)))"
   ]
  },
  {
   "cell_type": "markdown",
   "metadata": {
    "id": "XSyLzHT17a-B"
   },
   "source": [
    "## Task 02 – List comprehensions\n",
    "Python supports list comprehension. The basic syntax of list comprehensions is:\n",
    "$$\n",
    "\\text{L = [<elem> for <elem> <Condition>]}\n",
    "$$\n",
    "Use list comprehensions to write a Python function *remove_long_words()* that:\n",
    "- accepts a sentence s and an integer n as input parameters\n",
    "- uses the *split()* function of String objects to split the sentence into words\n",
    "- stores the individual words in a list\n",
    "- removes all words that are longer than n characters from the list, thereby creating a new list\n",
    "- prints the list to stdout"
   ]
  },
  {
   "cell_type": "code",
   "execution_count": 2,
   "metadata": {
    "id": "hT-mGe_T7a-B"
   },
   "outputs": [
    {
     "data": {
      "text/plain": [
       "['all', 'that', 'are', 'than', 'n', 'from', 'the', 'a', 'new', 'list']"
      ]
     },
     "execution_count": 2,
     "metadata": {},
     "output_type": "execute_result"
    }
   ],
   "source": [
    "s = 'removes all words that are longer than n characters from the list, thereby creating a new list'\n",
    "\n",
    "def remove_long_words(s, n): return [each for each in s.split(\" \") if len(each)<n]\n",
    "\n",
    "remove_long_words(s,5)"
   ]
  },
  {
   "cell_type": "markdown",
   "metadata": {
    "id": "_QHEBddh7a-C"
   },
   "source": [
    "## Task 03 – Unity Test\n",
    "The following algorithm in Python converts numbers in decimal representation to binary.\n",
    "1. Develop a unit test that checks for values in the interval \\[-1,3\\] whether the algorithm returns the\n",
    "expected results.\n",
    "2. Adjust the algorithm, so it passes the unit test developed in 1). Rename the function to\n",
    "*decimal_to_binary_correct()*"
   ]
  },
  {
   "cell_type": "code",
   "execution_count": 3,
   "metadata": {
    "id": "IdFKIU4u7a-C"
   },
   "outputs": [],
   "source": [
    "import math\n",
    "def decimal2binary(n):\n",
    "    # function to convert decimal integers to binary\n",
    "    x = []\n",
    "    while n > 0:\n",
    "        x.append(n % 2)\n",
    "        n = math.floor(n/2)\n",
    "    return x[::-1]"
   ]
  },
  {
   "cell_type": "code",
   "execution_count": 4,
   "metadata": {},
   "outputs": [
    {
     "ename": "AssertionError",
     "evalue": "Lists differ: [] != [-1]\n\nSecond list contains 1 additional elements.\nFirst extra element 0:\n-1\n\n- []\n+ [-1] : Wrong Answer!",
     "output_type": "error",
     "traceback": [
      "\u001b[1;31m---------------------------------------------------------------------------\u001b[0m",
      "\u001b[1;31mAssertionError\u001b[0m                            Traceback (most recent call last)",
      "\u001b[1;32m<ipython-input-4-868778fae933>\u001b[0m in \u001b[0;36m<module>\u001b[1;34m\u001b[0m\n\u001b[0;32m     12\u001b[0m \u001b[1;33m\u001b[0m\u001b[0m\n\u001b[0;32m     13\u001b[0m \u001b[0mtest\u001b[0m \u001b[1;33m=\u001b[0m \u001b[0mSimpleTest\u001b[0m\u001b[1;33m(\u001b[0m\u001b[1;33m)\u001b[0m\u001b[1;33m\u001b[0m\u001b[1;33m\u001b[0m\u001b[0m\n\u001b[1;32m---> 14\u001b[1;33m \u001b[0mtest\u001b[0m\u001b[1;33m.\u001b[0m\u001b[0mtest1\u001b[0m\u001b[1;33m(\u001b[0m\u001b[1;33m-\u001b[0m\u001b[1;36m1\u001b[0m\u001b[1;33m,\u001b[0m \u001b[1;33m[\u001b[0m\u001b[1;33m-\u001b[0m\u001b[1;36m1\u001b[0m\u001b[1;33m]\u001b[0m\u001b[1;33m)\u001b[0m\u001b[1;33m\u001b[0m\u001b[1;33m\u001b[0m\u001b[0m\n\u001b[0m\u001b[0;32m     15\u001b[0m \u001b[0mtest\u001b[0m\u001b[1;33m.\u001b[0m\u001b[0mtest1\u001b[0m\u001b[1;33m(\u001b[0m\u001b[1;36m0\u001b[0m\u001b[1;33m,\u001b[0m\u001b[1;33m[\u001b[0m\u001b[1;36m0\u001b[0m\u001b[1;33m]\u001b[0m\u001b[1;33m)\u001b[0m\u001b[1;33m\u001b[0m\u001b[1;33m\u001b[0m\u001b[0m\n\u001b[0;32m     16\u001b[0m \u001b[0mtest\u001b[0m\u001b[1;33m.\u001b[0m\u001b[0mtest1\u001b[0m\u001b[1;33m(\u001b[0m\u001b[1;36m1\u001b[0m\u001b[1;33m,\u001b[0m\u001b[1;33m[\u001b[0m\u001b[1;36m1\u001b[0m\u001b[1;33m]\u001b[0m\u001b[1;33m)\u001b[0m\u001b[1;33m\u001b[0m\u001b[1;33m\u001b[0m\u001b[0m\n",
      "\u001b[1;32m<ipython-input-4-868778fae933>\u001b[0m in \u001b[0;36mtest1\u001b[1;34m(self, m, n)\u001b[0m\n\u001b[0;32m      8\u001b[0m     \u001b[1;32mdef\u001b[0m \u001b[0mtest1\u001b[0m\u001b[1;33m(\u001b[0m\u001b[0mself\u001b[0m\u001b[1;33m,\u001b[0m\u001b[0mm\u001b[0m\u001b[1;33m,\u001b[0m\u001b[0mn\u001b[0m\u001b[1;33m)\u001b[0m\u001b[1;33m:\u001b[0m\u001b[1;33m\u001b[0m\u001b[1;33m\u001b[0m\u001b[0m\n\u001b[0;32m      9\u001b[0m         \u001b[1;31m#output = [[],[],[1],[1,0],[1,1,1]]\u001b[0m\u001b[1;33m\u001b[0m\u001b[1;33m\u001b[0m\u001b[1;33m\u001b[0m\u001b[0m\n\u001b[1;32m---> 10\u001b[1;33m         \u001b[0mself\u001b[0m\u001b[1;33m.\u001b[0m\u001b[0massertEqual\u001b[0m\u001b[1;33m(\u001b[0m\u001b[0mdecimal2binary\u001b[0m\u001b[1;33m(\u001b[0m\u001b[0mm\u001b[0m\u001b[1;33m)\u001b[0m\u001b[1;33m,\u001b[0m\u001b[0mn\u001b[0m\u001b[1;33m,\u001b[0m\u001b[1;34m\"Wrong Answer!\"\u001b[0m\u001b[1;33m)\u001b[0m\u001b[1;33m\u001b[0m\u001b[1;33m\u001b[0m\u001b[0m\n\u001b[0m\u001b[0;32m     11\u001b[0m \u001b[1;33m\u001b[0m\u001b[0m\n\u001b[0;32m     12\u001b[0m \u001b[1;33m\u001b[0m\u001b[0m\n",
      "\u001b[1;32m~\\Anaconda3\\lib\\unittest\\case.py\u001b[0m in \u001b[0;36massertEqual\u001b[1;34m(self, first, second, msg)\u001b[0m\n\u001b[0;32m    910\u001b[0m         \"\"\"\n\u001b[0;32m    911\u001b[0m         \u001b[0massertion_func\u001b[0m \u001b[1;33m=\u001b[0m \u001b[0mself\u001b[0m\u001b[1;33m.\u001b[0m\u001b[0m_getAssertEqualityFunc\u001b[0m\u001b[1;33m(\u001b[0m\u001b[0mfirst\u001b[0m\u001b[1;33m,\u001b[0m \u001b[0msecond\u001b[0m\u001b[1;33m)\u001b[0m\u001b[1;33m\u001b[0m\u001b[1;33m\u001b[0m\u001b[0m\n\u001b[1;32m--> 912\u001b[1;33m         \u001b[0massertion_func\u001b[0m\u001b[1;33m(\u001b[0m\u001b[0mfirst\u001b[0m\u001b[1;33m,\u001b[0m \u001b[0msecond\u001b[0m\u001b[1;33m,\u001b[0m \u001b[0mmsg\u001b[0m\u001b[1;33m=\u001b[0m\u001b[0mmsg\u001b[0m\u001b[1;33m)\u001b[0m\u001b[1;33m\u001b[0m\u001b[1;33m\u001b[0m\u001b[0m\n\u001b[0m\u001b[0;32m    913\u001b[0m \u001b[1;33m\u001b[0m\u001b[0m\n\u001b[0;32m    914\u001b[0m     \u001b[1;32mdef\u001b[0m \u001b[0massertNotEqual\u001b[0m\u001b[1;33m(\u001b[0m\u001b[0mself\u001b[0m\u001b[1;33m,\u001b[0m \u001b[0mfirst\u001b[0m\u001b[1;33m,\u001b[0m \u001b[0msecond\u001b[0m\u001b[1;33m,\u001b[0m \u001b[0mmsg\u001b[0m\u001b[1;33m=\u001b[0m\u001b[1;32mNone\u001b[0m\u001b[1;33m)\u001b[0m\u001b[1;33m:\u001b[0m\u001b[1;33m\u001b[0m\u001b[1;33m\u001b[0m\u001b[0m\n",
      "\u001b[1;32m~\\Anaconda3\\lib\\unittest\\case.py\u001b[0m in \u001b[0;36massertListEqual\u001b[1;34m(self, list1, list2, msg)\u001b[0m\n\u001b[0;32m   1116\u001b[0m \u001b[1;33m\u001b[0m\u001b[0m\n\u001b[0;32m   1117\u001b[0m         \"\"\"\n\u001b[1;32m-> 1118\u001b[1;33m         \u001b[0mself\u001b[0m\u001b[1;33m.\u001b[0m\u001b[0massertSequenceEqual\u001b[0m\u001b[1;33m(\u001b[0m\u001b[0mlist1\u001b[0m\u001b[1;33m,\u001b[0m \u001b[0mlist2\u001b[0m\u001b[1;33m,\u001b[0m \u001b[0mmsg\u001b[0m\u001b[1;33m,\u001b[0m \u001b[0mseq_type\u001b[0m\u001b[1;33m=\u001b[0m\u001b[0mlist\u001b[0m\u001b[1;33m)\u001b[0m\u001b[1;33m\u001b[0m\u001b[1;33m\u001b[0m\u001b[0m\n\u001b[0m\u001b[0;32m   1119\u001b[0m \u001b[1;33m\u001b[0m\u001b[0m\n\u001b[0;32m   1120\u001b[0m     \u001b[1;32mdef\u001b[0m \u001b[0massertTupleEqual\u001b[0m\u001b[1;33m(\u001b[0m\u001b[0mself\u001b[0m\u001b[1;33m,\u001b[0m \u001b[0mtuple1\u001b[0m\u001b[1;33m,\u001b[0m \u001b[0mtuple2\u001b[0m\u001b[1;33m,\u001b[0m \u001b[0mmsg\u001b[0m\u001b[1;33m=\u001b[0m\u001b[1;32mNone\u001b[0m\u001b[1;33m)\u001b[0m\u001b[1;33m:\u001b[0m\u001b[1;33m\u001b[0m\u001b[1;33m\u001b[0m\u001b[0m\n",
      "\u001b[1;32m~\\Anaconda3\\lib\\unittest\\case.py\u001b[0m in \u001b[0;36massertSequenceEqual\u001b[1;34m(self, seq1, seq2, msg, seq_type)\u001b[0m\n\u001b[0;32m   1098\u001b[0m         \u001b[0mstandardMsg\u001b[0m \u001b[1;33m=\u001b[0m \u001b[0mself\u001b[0m\u001b[1;33m.\u001b[0m\u001b[0m_truncateMessage\u001b[0m\u001b[1;33m(\u001b[0m\u001b[0mstandardMsg\u001b[0m\u001b[1;33m,\u001b[0m \u001b[0mdiffMsg\u001b[0m\u001b[1;33m)\u001b[0m\u001b[1;33m\u001b[0m\u001b[1;33m\u001b[0m\u001b[0m\n\u001b[0;32m   1099\u001b[0m         \u001b[0mmsg\u001b[0m \u001b[1;33m=\u001b[0m \u001b[0mself\u001b[0m\u001b[1;33m.\u001b[0m\u001b[0m_formatMessage\u001b[0m\u001b[1;33m(\u001b[0m\u001b[0mmsg\u001b[0m\u001b[1;33m,\u001b[0m \u001b[0mstandardMsg\u001b[0m\u001b[1;33m)\u001b[0m\u001b[1;33m\u001b[0m\u001b[1;33m\u001b[0m\u001b[0m\n\u001b[1;32m-> 1100\u001b[1;33m         \u001b[0mself\u001b[0m\u001b[1;33m.\u001b[0m\u001b[0mfail\u001b[0m\u001b[1;33m(\u001b[0m\u001b[0mmsg\u001b[0m\u001b[1;33m)\u001b[0m\u001b[1;33m\u001b[0m\u001b[1;33m\u001b[0m\u001b[0m\n\u001b[0m\u001b[0;32m   1101\u001b[0m \u001b[1;33m\u001b[0m\u001b[0m\n\u001b[0;32m   1102\u001b[0m     \u001b[1;32mdef\u001b[0m \u001b[0m_truncateMessage\u001b[0m\u001b[1;33m(\u001b[0m\u001b[0mself\u001b[0m\u001b[1;33m,\u001b[0m \u001b[0mmessage\u001b[0m\u001b[1;33m,\u001b[0m \u001b[0mdiff\u001b[0m\u001b[1;33m)\u001b[0m\u001b[1;33m:\u001b[0m\u001b[1;33m\u001b[0m\u001b[1;33m\u001b[0m\u001b[0m\n",
      "\u001b[1;32m~\\Anaconda3\\lib\\unittest\\case.py\u001b[0m in \u001b[0;36mfail\u001b[1;34m(self, msg)\u001b[0m\n\u001b[0;32m    751\u001b[0m     \u001b[1;32mdef\u001b[0m \u001b[0mfail\u001b[0m\u001b[1;33m(\u001b[0m\u001b[0mself\u001b[0m\u001b[1;33m,\u001b[0m \u001b[0mmsg\u001b[0m\u001b[1;33m=\u001b[0m\u001b[1;32mNone\u001b[0m\u001b[1;33m)\u001b[0m\u001b[1;33m:\u001b[0m\u001b[1;33m\u001b[0m\u001b[1;33m\u001b[0m\u001b[0m\n\u001b[0;32m    752\u001b[0m         \u001b[1;34m\"\"\"Fail immediately, with the given message.\"\"\"\u001b[0m\u001b[1;33m\u001b[0m\u001b[1;33m\u001b[0m\u001b[0m\n\u001b[1;32m--> 753\u001b[1;33m         \u001b[1;32mraise\u001b[0m \u001b[0mself\u001b[0m\u001b[1;33m.\u001b[0m\u001b[0mfailureException\u001b[0m\u001b[1;33m(\u001b[0m\u001b[0mmsg\u001b[0m\u001b[1;33m)\u001b[0m\u001b[1;33m\u001b[0m\u001b[1;33m\u001b[0m\u001b[0m\n\u001b[0m\u001b[0;32m    754\u001b[0m \u001b[1;33m\u001b[0m\u001b[0m\n\u001b[0;32m    755\u001b[0m     \u001b[1;32mdef\u001b[0m \u001b[0massertFalse\u001b[0m\u001b[1;33m(\u001b[0m\u001b[0mself\u001b[0m\u001b[1;33m,\u001b[0m \u001b[0mexpr\u001b[0m\u001b[1;33m,\u001b[0m \u001b[0mmsg\u001b[0m\u001b[1;33m=\u001b[0m\u001b[1;32mNone\u001b[0m\u001b[1;33m)\u001b[0m\u001b[1;33m:\u001b[0m\u001b[1;33m\u001b[0m\u001b[1;33m\u001b[0m\u001b[0m\n",
      "\u001b[1;31mAssertionError\u001b[0m: Lists differ: [] != [-1]\n\nSecond list contains 1 additional elements.\nFirst extra element 0:\n-1\n\n- []\n+ [-1] : Wrong Answer!"
     ]
    }
   ],
   "source": [
    "#unit test that checks for values in the interval [-1,3]\n",
    "\n",
    "import unittest\n",
    "  \n",
    "class SimpleTest(unittest.TestCase):\n",
    "  \n",
    "    # Returns True or False.\n",
    "    def test1(self,m,n): \n",
    "        #output = [[],[],[1],[1,0],[1,1,1]]\n",
    "        self.assertEqual(decimal2binary(m),n,\"Wrong Answer!\")\n",
    "        \n",
    "\n",
    "test = SimpleTest()\n",
    "test.test1(-1, [-1]) #Should throw an error\n",
    "test.test1(0,[0]) #Should throw an error\n",
    "test.test1(1,[1])\n",
    "test.test1(2,[1,0])\n",
    "test.test1(3,[1,1])\n"
   ]
  },
  {
   "cell_type": "code",
   "execution_count": null,
   "metadata": {},
   "outputs": [],
   "source": [
    "def decimal_to_binary_correct(n):\n",
    "    # function to convert decimal integers to binary\n",
    "    x = []\n",
    "    \n",
    "    if n<0:\n",
    "        while n < 0:\n",
    "            x.append(n % 2)\n",
    "            n = abs(n)\n",
    "            n = math.floor(n/2)\n",
    "        return x[::-1]\n",
    "    \n",
    "    elif n>0:\n",
    "        while n > 0:\n",
    "            x.append(n % 2)\n",
    "            n = math.floor(n/2)\n",
    "        return x[::-1]\n",
    "    else:\n",
    "        x.append(0)\n",
    "        return x[::-1]"
   ]
  },
  {
   "cell_type": "code",
   "execution_count": null,
   "metadata": {
    "id": "McO91gqP7a-D"
   },
   "outputs": [],
   "source": [
    "#unit test that checks for values in the interval [-1,3]\n",
    "\n",
    "import unittest\n",
    "  \n",
    "class SimpleTest(unittest.TestCase):\n",
    "  \n",
    "    # Returns True or False.\n",
    "    def test1(self,m,n): \n",
    "        #output = [[],[],[1],[1,0],[1,1,1]]\n",
    "        self.assertEqual(decimal_to_binary_correct(m),n,\"Wrong Answer!\")\n",
    "        \n",
    "\n",
    "test = SimpleTest()\n",
    "test.test1(-1, [1])\n",
    "test.test1(0,[0])\n",
    "test.test1(1,[1])\n",
    "test.test1(2,[1,0])\n",
    "test.test1(3,[1,1])\n"
   ]
  },
  {
   "cell_type": "markdown",
   "metadata": {
    "id": "iNLOQ5y47a-E"
   },
   "source": [
    "## Task 04 – HTTP Request\n",
    "Working with HTTP connections is essential for many data gathering tasks. The Python library *urllib* provides all functionality we need.\n",
    "Write a Python function *open_url(url)* that:\n",
    "- uses urllib to establish a HTTP connection to an arbitrary website\n",
    "- retrieves and prints the first 200 characters of the html resource, i.e. the html source code, of the chosen website\n",
    "- handles the exceptions thrown by the *urllib.request* function\n",
    "\n",
    "FYI: The basic syntax for exception handling in Python is as follows:\n",
    "```\n",
    "try:\n",
    "    ...\n",
    "    return ...\n",
    "except SomeError1 as e:\n",
    "    # error-specific exception handling\n",
    "except SomeError2 as e:\n",
    "    # error-specific exception handling\n",
    "except\n",
    "    # general exception handling\n",
    "```"
   ]
  },
  {
   "cell_type": "code",
   "execution_count": null,
   "metadata": {
    "id": "NaCXxVlB7a-E"
   },
   "outputs": [],
   "source": [
    "from urllib import request, error\n",
    "\n",
    "url = 'https://www.uni-goettingen.de/en/1.html'\n",
    "\n",
    "def open_url(url):\n",
    "    try:\n",
    "        page = request.urlopen(url)\n",
    "        return(page.read())\n",
    "    except error.HTTPError as e:\n",
    "        print(e, \"Please ensure the URL is right.\")\n",
    "    except error.URLError as e:\n",
    "        print(e, \"Some error occurred. Please ensure the URL is right and try again.\")\n",
    "        \n",
    "      \n",
    "    \n",
    "html = open_url(url)\n",
    "\n",
    "\n",
    "print(html[:200])"
   ]
  },
  {
   "cell_type": "markdown",
   "metadata": {
    "id": "ogac-RcI7a-F"
   },
   "source": [
    "## Task 05 – Logging\n",
    "The logging module in Python provides functionality for logging and debugging purposes. Use the logging module to extend the error handling for the function that you implemented to establish a HTTP connection (Task 4). All exceptions thrown by your function shall be logged as errors.\n",
    "\n",
    "To accomplish the task:\n",
    "- write a Python function *init_log(file_name, file_mode, level, format, date_format)* that initializes a custom log file to which all debugging information and errors are appended using a format that includes the date, time, level and the message of the logging event\n",
    "- log occurring errors by calling *logging.error(...)*\n",
    "- close the log after completing your task by calling *logging.shutdown()*\n",
    "\n",
    "If you choose not to complete Tasks 4, test the logging functionality with a few examples of your own."
   ]
  },
  {
   "cell_type": "code",
   "execution_count": null,
   "metadata": {
    "id": "hT8RvjYU7a-F"
   },
   "outputs": [],
   "source": [
    "import logging\n",
    "\n",
    "\n",
    "def init_log(file_name, file_mode, level, Format):\n",
    "    logging.basicConfig(filename=file_name,filemode=file_mode,format=Format)\n",
    "    logger = logging.getLogger()\n",
    "    logger.setLevel(level)\n",
    "    \n",
    "    try:\n",
    "        page = request.urlopen(url)\n",
    "        logging.info(\"Successful!\")\n",
    "        return(page.read()[:200])\n",
    "    except error.HTTPError as e:\n",
    "        logging.error(\"{} Please ensure the URL is right.\".format(e))\n",
    "    except error.URLError as e:\n",
    "        logging.error(\"{} Some error occurred. Please ensure the URL is right and try again.\".format(e))\n",
    "    \n",
    "    logging.shutdown()\n",
    "\n",
    "        \n",
    "Format = '%(asctime)s %(message)s'\n",
    "file_name = 'logfile.log'\n",
    "file_mode = 'a'\n",
    "level = 10\n",
    "url = 'https://www.uni-goettingen.de/en/1.html'\n",
    "\n",
    "\n",
    "first_200 = init_log(file_name, file_mode, level, Format)\n",
    "print(first_200)"
   ]
  },
  {
   "cell_type": "markdown",
   "metadata": {
    "id": "FFvlZPUc7a-G"
   },
   "source": [
    "## Task 06 – Download File\n",
    "In Task 4, you used the *urllib* library to establish a http connection. You can also use the *urllib* library to perform simple file downloads.\n",
    "\n",
    "Write a Python function *download_file(url, path)* that:\n",
    "- checks whether the input URL points to a .txt file\n",
    "- if the input URL points to a .txt file, uses the *urllib* library to download and write the text file to the given path on your machine\n",
    "- logs an error “No text file found at given URL, download aborted!” to the log file created in Task 5 if the input URL does not point to a .txt file.\n",
    "- properly handles exceptions\n",
    "\n",
    "Use the *download_file()* function to download William Shakespeare’s drama Macbeth as a plain\n",
    "text file from: [Macbeth](https://ia802707.us.archive.org/1/items/macbeth02264gut/0ws3410.txt)"
   ]
  },
  {
   "cell_type": "code",
   "execution_count": null,
   "metadata": {
    "id": "3L-DwhcZ7a-G"
   },
   "outputs": [],
   "source": [
    "url = \"https://ia802707.us.archive.org/1/items/macbeth02264gut/0ws3410.txt\"\n",
    "path = r\"C:\\Users\\esltpae\\Downloads\\Macbeth.txt\"\n",
    "\n",
    "def download_file(url,path):\n",
    "    logging.basicConfig(filename=file_name,filemode=file_mode,format=Format)\n",
    "    logger = logging.getLogger()\n",
    "    logger.setLevel(level)\n",
    "    \n",
    "    try:\n",
    "        if url.endswith(\".txt\"):\n",
    "            request.urlretrieve(url,path)\n",
    "        else:\n",
    "            logging.error(\"No text file found at given URL, download aborted!\")\n",
    "    except error.HTTPError as e:\n",
    "        logging.error(\"{} Please ensure the URL is right.\".format(e))\n",
    "    except error.URLError as e:\n",
    "        logging.error(\"{} Some error occurred. Please ensure the URL is right and try again.\".format(e))\n",
    "    \n",
    "    logging.shutdown()\n",
    "    \n",
    "\n",
    "download_file(url, path)"
   ]
  },
  {
   "cell_type": "code",
   "execution_count": null,
   "metadata": {},
   "outputs": [],
   "source": []
  },
  {
   "cell_type": "code",
   "execution_count": null,
   "metadata": {},
   "outputs": [],
   "source": []
  }
 ],
 "metadata": {
  "colab": {
   "provenance": []
  },
  "kernelspec": {
   "display_name": "Python 3",
   "language": "python",
   "name": "python3"
  },
  "language_info": {
   "codemirror_mode": {
    "name": "ipython",
    "version": 3
   },
   "file_extension": ".py",
   "mimetype": "text/x-python",
   "name": "python",
   "nbconvert_exporter": "python",
   "pygments_lexer": "ipython3",
   "version": "3.8.5"
  }
 },
 "nbformat": 4,
 "nbformat_minor": 1
}
