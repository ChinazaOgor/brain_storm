{
 "cells": [
  {
   "cell_type": "markdown",
   "metadata": {
    "id": "CyG8nU1B7btq"
   },
   "source": [
    "# Assignment 05\n",
    "#### Python Basics V - Text Processing\n",
    "\n",
    "This tutorial was written by Terry L. Ruas (University of Göttingen). The references for external contributors for which this material was anyhow adapted/inspired are in the Acknowledgments section (end of the document)."
   ]
  },
  {
   "cell_type": "markdown",
   "metadata": {
    "id": "fjMwJ_zg7btr"
   },
   "source": [
    "This notebook will cover the following tasks:\n",
    "\n",
    "1. Text Pre-Processing\n",
    "2. Simple Text Analysis"
   ]
  },
  {
   "cell_type": "markdown",
   "metadata": {
    "id": "zqcCFwVV7bts"
   },
   "source": [
    "## Task 01 – Text Pre-Processing\n",
    "A computational analysis of natural language text typically requires several pre-processing steps, such as excluding irrelevant text parts, separating the text into words, phrases, or sentences depending on the analysis use case, removing so-called stop words, i.e., words that contain little to no semantic meaning, and normalizing the texts, e.g., by removing punctuation and capitalization.\n",
    "\n",
    "Use the *download_file()* function developed in the past assignments to download the plain text versions of Shakespeare’s play [Macbeth](https://ia802707.us.archive.org/1/items/macbeth02264gut/0ws3410.txt) and Bacon’s [New Atlantis](https://ia801309.us.archive.org/24/items/newatlantis02434gut/nwatl10.txt). If you choose not to implement assignment 4, task 6, download the files manually. We will also provide some txt files.\n",
    "\n",
    "Inspect these real-world texts manually to get an idea of what needs to be done to clean and prepare\n",
    "the texts for computational analysis. Implement the following functions to perform common pre-processing steps on the texts:\n",
    "1. *get_speaker_text()* – returns only the text spoken by the characters in the plays and removes all other text in the files, such as:\n",
    "    - Information about the file, acknowledgements, copyright notices etc.\n",
    "    - Headings indicating the act and scene\n",
    "    - Stage instructions\n",
    "    - Character names\n",
    "2. *normalize_text()*\n",
    "    - converts all text to lower case\n",
    "    - removes all punctuation from the texts\n",
    "3. *remove_stopwords()* – eliminates all stop words that are part of the list of English stop words (we provide two lists of stopwords, try both and see how they perform)\n",
    "4. *tokenize_text()* – splits the cleaned text into words\n",
    "\n",
    "This program is a pre-req for the next one."
   ]
  },
  {
   "cell_type": "code",
   "execution_count": 1,
   "metadata": {},
   "outputs": [],
   "source": [
    "import string\n",
    "from nltk.corpus import stopwords\n",
    "import logging\n",
    "from urllib import request, error\n",
    "import csv\n",
    "from operator import itemgetter"
   ]
  },
  {
   "cell_type": "code",
   "execution_count": 2,
   "metadata": {
    "id": "t5Mz4YP67btt"
   },
   "outputs": [],
   "source": [
    "#Downloading the data\n",
    "\n",
    "\n",
    "Format = '%(asctime)s %(message)s'\n",
    "file_name = 'logfile.log'\n",
    "file_mode = 'a'\n",
    "level = 10\n",
    "\n",
    "\n",
    "def download_file(url,path):\n",
    "    logging.basicConfig(filename=file_name,filemode=file_mode,format=Format)\n",
    "    logger = logging.getLogger()\n",
    "    logger.setLevel(level)\n",
    "    \n",
    "    try:\n",
    "        if url.endswith(\".txt\"):\n",
    "            request.urlretrieve(url,path)\n",
    "        else:\n",
    "            logging.error(\"No text file found at given URL, download aborted!\")\n",
    "    except error.HTTPError as e:\n",
    "        logging.error(\"{} Please ensure the URL is right.\".format(e))\n",
    "    except error.URLError as e:\n",
    "        logging.error(\"{} Some error occurred. Please ensure the URL is right and try again.\".format(e))\n",
    "    \n",
    "    logging.shutdown()\n",
    "    \n",
    "\n",
    "url1 = \"https://ia802707.us.archive.org/1/items/macbeth02264gut/0ws3410.txt\"\n",
    "path1 = r\"C:\\Users\\esltpae\\Downloads\\Macbeth.txt\"\n",
    "\n",
    "url2 = \"https://ia801309.us.archive.org/24/items/newatlantis02434gut/nwatl10.txt\"\n",
    "path2 = r\"C:\\Users\\esltpae\\Downloads\\New_Atlantis.txt\"\n",
    "\n",
    "download_file(url1, path1)\n",
    "download_file(url2, path2)"
   ]
  },
  {
   "cell_type": "code",
   "execution_count": 3,
   "metadata": {},
   "outputs": [],
   "source": [
    "# Sentence Equivalent\n",
    "\n",
    "en_sw = set(string.punctuation).union(set(stopwords.words('english')))\n",
    "\n",
    "def get_speaker_text(path):\n",
    "    with open(path,'r') as f:\n",
    "        text = f.read().replace('\\n',' ')\n",
    "    return(text)\n",
    "\n",
    "def normalize_text(S):\n",
    "    return (S.lower())\n",
    "\n",
    "def remove_stopwords(S):\n",
    "    words = []\n",
    "    for each in S.split():\n",
    "        words.append(each.strip(\"*\"))\n",
    "    S = ' '.join([word for word in words if word not in en_sw])\n",
    "    return(S)\n",
    "\n",
    "def tokenize_text(S):\n",
    "    return S.split(\" \")\n"
   ]
  },
  {
   "cell_type": "code",
   "execution_count": 4,
   "metadata": {},
   "outputs": [],
   "source": [
    "# Word Equivalent of same functions\n",
    "\n",
    "# en_sw = set(stopwords.words('english'))\n",
    "\n",
    "# def get_speaker_text(path):\n",
    "#     with open(path,'r') as f:\n",
    "#         text = f.read().replace('\\n',' ')\n",
    "#     return(text.split(' '))\n",
    "\n",
    "# def normalize_text(words):\n",
    "#     return ([word.lower() for word in words if word.strip(\" \") not in string.punctuation()])\n",
    "\n",
    "# def remove_stopwords(words):\n",
    "#     return ([word for word in words if word.strip(\" \") not in en_sw])\n",
    "\n",
    "# def tokenize_text(S):\n",
    "#     return S.splits(\" \")"
   ]
  },
  {
   "cell_type": "markdown",
   "metadata": {
    "id": "vcpnC_hq7btu"
   },
   "source": [
    "## Task 02 – Classes\n",
    "The [Baconian theory](https://en.wikipedia.org/wiki/Baconian_theory_of_Shakespeare_authorship) holds that Sir Francis Bacon is the author of Shakespeare’s plays. We want to perform a very simple stylistic analysis between Shakespeare’s play Macbeth and Bacon’s New Atlantis. We check for words that frequently occur in both documents to see whether there are characteristic words that co-occur in the texts, which might give some support to the theory.\n",
    "\n",
    "Your Task:\n",
    "1. Download and pre-process the texts as follows:  \n",
    "  New Atlantis\n",
    "    1. *get_speaker_text()*\n",
    "    2. *normalize_text()*\n",
    "    3. *remove_stopwords()*\n",
    "    4. *tokenize_text()*   \n",
    "  \n",
    " Macbeth\n",
    "    1. *get_speaker_text()*\n",
    "    2. *normalize_text()*\n",
    "        1. *utils_ocr.correct_ocr_errors()* – we will provide a function to deal with OCR errors.\n",
    "    3. *remove_stopwords()*\n",
    "    4. *tokenize_text()*\n",
    "2. For the pre-processed texts, compute the list of word co-occurrence frequencies, i.e. which words occur in both documents and how often. Use the format:  \n",
    "[term , frequency_doc1 , frequency_doc2 , sum_of_frequencies]  \n",
    "Sort the list according to the sum of the frequencies in descending order.\n",
    "3. Use the csv library to store the ordered word co-occurrence frequency list in a CSV file. **You can zip the csv and upload it to GitHub.**"
   ]
  },
  {
   "cell_type": "code",
   "execution_count": 5,
   "metadata": {},
   "outputs": [
    {
     "name": "stdout",
     "output_type": "stream",
     "text": [
      "['project', \"gutenberg's\", 'etext', \"shakespeare's\", 'first', 'folio', 'tragedie', 'macbeth', '3rd', 'edition', 'plays.', 'see', 'index.', 'copyright', 'laws', 'changing', 'world,', 'sure', 'check', 'copyright', 'laws', 'country', 'posting', 'files!!', 'please', 'take', 'look', 'important', 'information', 'header.', 'encourage', 'keep', 'file', 'disk,', 'keeping', 'electronic', 'path', 'open', 'next', 'readers.', 'remove', 'this.', 'welcome', 'world', 'free', 'plain', 'vanilla', 'electronic', 'texts', 'etexts', 'readable', 'humans', 'computers,', 'since', '1971', 'etexts', 'prepared', 'hundreds', 'volunteers', 'donations', 'information', 'contacting', 'project', 'gutenberg', 'get', 'etexts,', 'information', 'included', 'below.', 'need', 'donations.', 'tragedie', 'macbeth', 'william', 'shakespeare', 'july,', '2000', '[etext', '#2264]', 'project', \"gutenberg's\", 'etext', \"shakespeare's\", 'first', 'folio', 'tragedie', 'macbeth', 'file', 'named', '0ws3410.txt', '0ws3410.zip', 'corrected', 'editions', 'etexts', 'get', 'new', 'number,', '0ws3411.txt', 'versions', 'based']\n"
     ]
    }
   ],
   "source": [
    "macbeth = get_speaker_text(path1)\n",
    "macbeth = normalize_text(macbeth) \n",
    "macbeth = remove_stopwords(macbeth)\n",
    "macbeth = tokenize_text(macbeth)\n",
    "print(macbeth[:100])\n"
   ]
  },
  {
   "cell_type": "code",
   "execution_count": 6,
   "metadata": {},
   "outputs": [
    {
     "name": "stdout",
     "output_type": "stream",
     "text": [
      "['project', 'gutenberg', 'etext', 'new', 'atlantis', 'francis', 'bacon', '#2', 'series', 'sir', 'francis', 'bacon', 'copyright', 'laws', 'changing', 'world,', 'sure', 'check', 'copyright', 'laws', 'country', 'posting', 'files!!', 'please', 'take', 'look', 'important', 'information', 'header.', 'encourage', 'keep', 'file', 'disk,', 'keeping', 'electronic', 'path', 'open', 'next', 'readers.', 'remove', 'this.', 'welcome', 'world', 'free', 'plain', 'vanilla', 'electronic', 'texts', 'etexts', 'readable', 'humans', 'computers,', 'since', '1971', 'etexts', 'prepared', 'hundreds', 'volunteers', 'donations', 'information', 'contacting', 'project', 'gutenberg', 'get', 'etexts,', 'information', 'included', 'below.', 'need', 'donations.', 'new', 'atlantis', 'sir', 'francis', 'bacon', 'december,', '2000', '[etext', '2434#]', 'project', 'gutenberg', 'etext', 'new', 'atlantis', 'francis', 'bacon', 'file', 'named', 'nwatl10.txt', 'nwatl10.zip', 'corrected', 'editions', 'etexts', 'get', 'new', 'number,', 'nwatl11.txt', 'versions', 'based', 'separate']\n"
     ]
    }
   ],
   "source": [
    "new_atlantis = get_speaker_text(path2)\n",
    "new_atlantis = normalize_text(new_atlantis) \n",
    "new_atlantis = remove_stopwords(new_atlantis)\n",
    "new_atlantis = tokenize_text(new_atlantis)\n",
    "print(new_atlantis[:100])\n"
   ]
  },
  {
   "cell_type": "code",
   "execution_count": 7,
   "metadata": {
    "id": "LPkEibMM7btu"
   },
   "outputs": [
    {
     "name": "stdout",
     "output_type": "stream",
     "text": [
      "['project', \"gutenberg's\", 'etext', \"shakespeare's\", 'first', 'folio', 'tragedie', 'macbeth', '3rd', 'edition', 'plays.', 'see', 'index.', 'copyright', 'laws', 'changing', 'world,', 'sure', 'check', 'copyright', 'laws', 'country', 'posting', 'files!!', 'please', 'take', 'look', 'important', 'information', 'header.', 'encourage', 'keep', 'file', 'disk,', 'keeping', 'electronic', 'path', 'open', 'next', 'readers.', 'remove', 'this.', 'welcome', 'world', 'free', 'plain', 'vanilla', 'electronic', 'texts', 'etexts']\n",
      "['project', \"gutenberg's\", 'etext', \"shakespeare's\", 'first', 'folio', 'tragedie', 'macbeth', '3rd', 'edition', 'plays.', 'see', 'index.', 'copyright', 'laws', 'changing', 'world,', 'sure', 'check', 'copyright', 'laws', 'country', 'posting', 'files!!', 'please', 'take', 'look', 'important', 'information', 'header.', 'encourage', 'keep', 'file', 'disk,', 'keeping', 'electronic', 'path', 'open', 'next', 'readers.', 'remove', 'this.', 'welcome', 'world', 'free', 'plain', 'vanilla', 'electronic', 'texts', 'etexts']\n"
     ]
    }
   ],
   "source": [
    "macbeth = tokenize_text(remove_stopwords(normalize_text(get_speaker_text(path1))))\n",
    "print(macbeth[:50])\n",
    "\n",
    "new_atlantis = tokenize_text(remove_stopwords(normalize_text(get_speaker_text(path1))))\n",
    "print(new_atlantis[:50])\n",
    "\n",
    "term_count = []\n",
    "for each in set(macbeth).union(set(new_atlantis)):\n",
    "    term_count.append([each, macbeth.count(each), new_atlantis.count(each), macbeth.count(each) + new_atlantis.count(each)])\n",
    "    \n",
    "# term_count_sorted = term_count.sort(key = lambda ele: ele[3])\n",
    "\n",
    "term_count_sorted = sorted(term_count, key=lambda x: x[3])\n",
    "\n",
    "# term_count_sorted.to_csv(\"term_count_sorted.csv\")\n",
    "\n",
    "\n",
    "\n",
    "with open(\"term_count_sorted.csv\", 'w', newline='') as csvfile:\n",
    "    writer= csv.writer(csvfile, delimiter=' ',quotechar='|', quoting=csv.QUOTE_MINIMAL)\n",
    "    writer.writerows(term_count_sorted)"
   ]
  },
  {
   "cell_type": "code",
   "execution_count": null,
   "metadata": {},
   "outputs": [],
   "source": []
  }
 ],
 "metadata": {
  "colab": {
   "provenance": []
  },
  "kernelspec": {
   "display_name": "Python 3",
   "language": "python",
   "name": "python3"
  },
  "language_info": {
   "codemirror_mode": {
    "name": "ipython",
    "version": 3
   },
   "file_extension": ".py",
   "mimetype": "text/x-python",
   "name": "python",
   "nbconvert_exporter": "python",
   "pygments_lexer": "ipython3",
   "version": "3.8.5"
  }
 },
 "nbformat": 4,
 "nbformat_minor": 1
}
